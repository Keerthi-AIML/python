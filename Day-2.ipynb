{
  "nbformat": 4,
  "nbformat_minor": 0,
  "metadata": {
    "colab": {
      "private_outputs": true,
      "provenance": [],
      "authorship_tag": "ABX9TyMKXaBY9Rg6pKvu4lsKOVDb",
      "include_colab_link": true
    },
    "kernelspec": {
      "name": "python3",
      "display_name": "Python 3"
    },
    "language_info": {
      "name": "python"
    }
  },
  "cells": [
    {
      "cell_type": "markdown",
      "metadata": {
        "id": "view-in-github",
        "colab_type": "text"
      },
      "source": [
        "<a href=\"https://colab.research.google.com/github/Keerthi-AIML/python/blob/main/Day-2.ipynb\" target=\"_parent\"><img src=\"https://colab.research.google.com/assets/colab-badge.svg\" alt=\"Open In Colab\"/></a>"
      ]
    },
    {
      "cell_type": "code",
      "execution_count": null,
      "metadata": {
        "id": "iAWYPHyNv3a-"
      },
      "outputs": [],
      "source": [
        "a,b=map(int,input().split())\n",
        "for _ in range(b):\n",
        "  if a%10==0:\n",
        "    a//=10\n",
        "  else:\n",
        "     a-=1\n",
        "print(a)"
      ]
    },
    {
      "cell_type": "code",
      "source": [
        "# method 1 direct creating a list\n",
        "l=[1,2,'keerthi',102,'*']\n",
        "l"
      ],
      "metadata": {
        "id": "ycdCTYdh6lVc"
      },
      "execution_count": null,
      "outputs": []
    },
    {
      "cell_type": "code",
      "source": [
        "# method 2 using user input and using split\n",
        "l=input(\"enter the numbers:\").split()\n"
      ],
      "metadata": {
        "id": "jd0SHmAM64g7"
      },
      "execution_count": null,
      "outputs": []
    },
    {
      "cell_type": "code",
      "source": [
        "print(l)"
      ],
      "metadata": {
        "id": "NWrIOYzv7LDT"
      },
      "execution_count": null,
      "outputs": []
    },
    {
      "cell_type": "code",
      "source": [
        "# creating list using map and split\n",
        "l=list(map(int,input(\"enter the number:\").split()))"
      ],
      "metadata": {
        "id": "Kz0rVaCy7NPC"
      },
      "execution_count": null,
      "outputs": []
    },
    {
      "cell_type": "code",
      "source": [
        "print(l)"
      ],
      "metadata": {
        "id": "wzJyfn1T7bti"
      },
      "execution_count": null,
      "outputs": []
    },
    {
      "cell_type": "code",
      "source": [
        "l=[]\n",
        "n=int(input(\"enter the elements:\"))\n",
        "for i in range(n):\n",
        "  k=int((input()))\n"
      ],
      "metadata": {
        "id": "5Qyck_MY7pHT"
      },
      "execution_count": null,
      "outputs": []
    },
    {
      "cell_type": "code",
      "source": [
        "l=[10,20,'python',40.32,True,15]"
      ],
      "metadata": {
        "id": "y1x6fupoJeTH"
      },
      "execution_count": null,
      "outputs": []
    },
    {
      "cell_type": "code",
      "source": [
        "l.pop(2)\n",
        "print(l)"
      ],
      "metadata": {
        "id": "pZWKZGpuJ1kW"
      },
      "execution_count": null,
      "outputs": []
    },
    {
      "cell_type": "code",
      "source": [
        "l=[2,1,3,4,5,7,6,2]\n",
        "print(l[-4:-1])"
      ],
      "metadata": {
        "id": "KSyNNKfjOUi-"
      },
      "execution_count": null,
      "outputs": []
    },
    {
      "cell_type": "code",
      "source": [],
      "metadata": {
        "id": "6LnxvTD2Ob8M"
      },
      "execution_count": null,
      "outputs": []
    },
    {
      "cell_type": "code",
      "source": [
        "#reverses the order of the list\n",
        "l=[2,1,3,4,5,7,6,2]\n",
        "print(l[::-1])"
      ],
      "metadata": {
        "id": "z62k2X8sO36m"
      },
      "execution_count": null,
      "outputs": []
    },
    {
      "cell_type": "code",
      "source": [
        "l1=[1,2,3,4,5]\n"
      ],
      "metadata": {
        "id": "SX3yg4ZWOb4V"
      },
      "execution_count": null,
      "outputs": []
    },
    {
      "cell_type": "code",
      "source": [
        "l2=[9,8,7,6,5]"
      ],
      "metadata": {
        "id": "yObR8t7mOb0G"
      },
      "execution_count": null,
      "outputs": []
    },
    {
      "cell_type": "code",
      "source": [
        "print(l1+l2)"
      ],
      "metadata": {
        "id": "NfvOORKJObs1"
      },
      "execution_count": null,
      "outputs": []
    },
    {
      "cell_type": "code",
      "source": [
        "l=list(map(int,input().split()))\n",
        "l[0],l[-1]=l[-1],l[0]\n",
        "print(l)"
      ],
      "metadata": {
        "id": "6ItdRFJZObod"
      },
      "execution_count": null,
      "outputs": []
    },
    {
      "cell_type": "code",
      "source": [
        "l=[2,1,2,3,4,5,6,7,2]\n",
        "sum=0\n",
        "for i in range(len(l)):\n",
        "  if i%2!=0 and l[i]%2==0:\n",
        "      sum+=l[i]\n",
        "print(sum)"
      ],
      "metadata": {
        "id": "2EuBWOqKObj8"
      },
      "execution_count": null,
      "outputs": []
    },
    {
      "cell_type": "code",
      "source": [
        "l=[2,2,3,1,3,4,5,4,3,1]\n",
        "res=[]\n",
        "for i in l:\n",
        "  if i not in res:\n",
        "    res.append(i)\n",
        "print(res)"
      ],
      "metadata": {
        "id": "ZLnttk35Obgd"
      },
      "execution_count": null,
      "outputs": []
    },
    {
      "cell_type": "code",
      "source": [
        "l=[1,2,4,5,3,2,1,4,5,6,2,1,7]\n",
        "res=[]\n",
        "for i in l:\n",
        "  if  i not in res and l.count(i)%2!=0:\n",
        "    res.append(i)\n",
        "print(res)"
      ],
      "metadata": {
        "id": "3ytvBGzRObcd"
      },
      "execution_count": null,
      "outputs": []
    },
    {
      "cell_type": "code",
      "source": [
        "a=list(map(int,input().split()))\n",
        "a.sort()\n",
        "print(sorted(a)[:3])\n",
        "sum(sorted(a))"
      ],
      "metadata": {
        "id": "Judro4RMObYV"
      },
      "execution_count": null,
      "outputs": []
    },
    {
      "cell_type": "code",
      "source": [
        "l=[2,3,1,5,6,7,8]\n",
        "# inserts even number and appends the odd number at the last\n",
        "l.sort()\n",
        "res=[]\n",
        "for i in l:\n",
        "  if i%2!=0:\n",
        "    res.append(i)\n",
        "  else:\n",
        "    res.insert(0,i)\n",
        "    print(res)"
      ],
      "metadata": {
        "id": "UF-P96BmObT0"
      },
      "execution_count": null,
      "outputs": []
    },
    {
      "cell_type": "code",
      "source": [
        "k=3\n",
        "l=[1,3,4,7,8,9,1]\n",
        "l.reverse()\n",
        "print(l[:k])\n",
        "\n"
      ],
      "metadata": {
        "id": "JmJB476KObPN"
      },
      "execution_count": null,
      "outputs": []
    },
    {
      "cell_type": "code",
      "source": [
        "l=[1,3,2,4,5,2,4]\n",
        "for i in range(len(l)-1):\n",
        "  if l[i]+1!=l[i+1]:\n",
        "    print(False)\n",
        "    break\n",
        "else:\n",
        "  print(True)\n",
        "\n"
      ],
      "metadata": {
        "id": "-q--9WIHObKm"
      },
      "execution_count": null,
      "outputs": []
    },
    {
      "cell_type": "code",
      "source": [
        "from ast import Return\n",
        "a=list(map(int,input().split()))\n",
        "c1=0\n",
        "c2=0\n",
        "for i in a:\n",
        "  if i in a==5:\n",
        "     c1+=5\n",
        "  elif i in a==10:\n",
        "    if i in a==5:\n",
        "      c1-=5\n",
        "    return  True\n",
        "    else:\n",
        "      c1+=5\n",
        "    return False\n",
        "  else:\n",
        "    c2+=i\n",
        "if c1==c2:\n",
        "  print(True)\n",
        "else:\n",
        "  print(False)\n",
        "\n"
      ],
      "metadata": {
        "id": "Dh77GO1cObFc"
      },
      "execution_count": null,
      "outputs": []
    },
    {
      "cell_type": "code",
      "source": [
        "l=[1,2,3,4,5,6,7,8]\n",
        "for i in range(len(l)-1,-1,-1):\n",
        "  if  l[i]==9:\n",
        "    l[i]=0\n",
        "  else:\n",
        "    l[i]=l[i]+1\n",
        "    return l\n",
        "return [l]+l\n",
        "\n"
      ],
      "metadata": {
        "id": "yZQMI9CGObAd"
      },
      "execution_count": null,
      "outputs": []
    },
    {
      "cell_type": "code",
      "source": [
        "class Solution:\n",
        "    def singleNumber(self, nums: List[int]) -> int:\n",
        "        x=0\n",
        "        for i in nums:\n",
        "            x=x^i\n",
        "        return x\n"
      ],
      "metadata": {
        "id": "69aUm5wsOa5V"
      },
      "execution_count": null,
      "outputs": []
    },
    {
      "cell_type": "code",
      "source": [
        "# defining a function once and calling it multiple times is possible\n",
        "def greet():\n",
        "  print(\"hi\")\n",
        "  print(\"good morning\")\n",
        "def add(x,y):\n",
        "\n",
        "greet()\n",
        "greet()"
      ],
      "metadata": {
        "id": "mhabyGkIUyV1"
      },
      "execution_count": null,
      "outputs": []
    }
  ]
}