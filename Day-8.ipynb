{
  "nbformat": 4,
  "nbformat_minor": 0,
  "metadata": {
    "colab": {
      "provenance": [],
      "authorship_tag": "ABX9TyPs9ZiX+o80elGlWFq93UJw",
      "include_colab_link": true
    },
    "kernelspec": {
      "name": "python3",
      "display_name": "Python 3"
    },
    "language_info": {
      "name": "python"
    }
  },
  "cells": [
    {
      "cell_type": "markdown",
      "metadata": {
        "id": "view-in-github",
        "colab_type": "text"
      },
      "source": [
        "<a href=\"https://colab.research.google.com/github/Keerthi-AIML/python/blob/main/Day-8.ipynb\" target=\"_parent\"><img src=\"https://colab.research.google.com/assets/colab-badge.svg\" alt=\"Open In Colab\"/></a>"
      ]
    },
    {
      "cell_type": "code",
      "execution_count": null,
      "metadata": {
        "colab": {
          "base_uri": "https://localhost:8080/"
        },
        "id": "MWW4BWGmwD02",
        "outputId": "9d0d32e5-5fca-4800-b431-28c2770bb84d"
      },
      "outputs": [
        {
          "output_type": "stream",
          "name": "stdout",
          "text": [
            "5\n"
          ]
        }
      ],
      "source": [
        "# only for odd palindrome\n",
        "s=\"ababad\"\n",
        "m=0\n",
        "for i in range(len(s)):\n",
        "  r,l=i,i\n",
        "  while l>=0 and r<len(s)and s[l]==s[r]:\n",
        "    m=max(m,r-l+1)\n",
        "    r+=1\n",
        "    l-=1\n",
        "print(m)\n"
      ]
    },
    {
      "cell_type": "code",
      "source": [
        "s=\"dabbac\"\n",
        "m=0\n",
        "for i in range(len(s)):\n",
        "  r,l=i,i\n",
        "  while l>=0 and r<len(s)and s[l]==s[r]:\n",
        "    m=max(m,r-l+1)\n",
        "    r+=1\n",
        "    l-=1\n",
        "  r,l=i+1,i\n",
        "  while l>=0 and r<len(s)and s[l]==s[r]:\n",
        "    m=max(m,r-l+1)\n",
        "    r+=1\n",
        "    l-=1\n",
        "print(m)"
      ],
      "metadata": {
        "colab": {
          "base_uri": "https://localhost:8080/"
        },
        "id": "sLfMnSNNw1lq",
        "outputId": "1799129d-04e1-404f-a87d-6fc448818933"
      },
      "execution_count": null,
      "outputs": [
        {
          "output_type": "stream",
          "name": "stdout",
          "text": [
            "4\n"
          ]
        }
      ]
    },
    {
      "cell_type": "code",
      "source": [
        "#fib\n",
        "def fun(n):\n",
        "  if n==0:\n",
        "    return 1\n",
        "  elif n==1:\n",
        "    return 1\n",
        "  else:\n",
        "    return fun(n-1)+fun(n-2)\n",
        "n=int(input())\n",
        "print(fun(n))"
      ],
      "metadata": {
        "colab": {
          "base_uri": "https://localhost:8080/"
        },
        "id": "0IgAUe4Y3aVa",
        "outputId": "d0135531-24d7-4762-8207-cd2d8a5f35e0"
      },
      "execution_count": null,
      "outputs": [
        {
          "output_type": "stream",
          "name": "stdout",
          "text": [
            "1\n",
            "1\n"
          ]
        }
      ]
    },
    {
      "cell_type": "code",
      "source": [
        "#memozation-top down approach\n",
        "def fib(n,dp):\n",
        "  if n==1 or n==0:\n",
        "    return n\n",
        "  if dp[n]!=-1:\n",
        "    return dp[n]\n",
        "  dp[n]=fib(n-1,dp)+fib(n-2,dp)\n",
        "  return dp[n]\n",
        "n=int(input())\n",
        "dp=[-1]*(n+1)\n",
        "print(fib(n,dp))"
      ],
      "metadata": {
        "colab": {
          "base_uri": "https://localhost:8080/"
        },
        "id": "MMVqewdN9VX6",
        "outputId": "56115744-6761-49ac-aeec-10e0334bd5cc"
      },
      "execution_count": null,
      "outputs": [
        {
          "output_type": "stream",
          "name": "stdout",
          "text": [
            "5\n",
            "5\n"
          ]
        }
      ]
    },
    {
      "cell_type": "code",
      "source": [],
      "metadata": {
        "id": "lbFz75ooHbJ9"
      },
      "execution_count": null,
      "outputs": []
    },
    {
      "cell_type": "code",
      "source": [
        "# tabulation - bottomup approach\n",
        "n=int(input())\n",
        "dp=[-1]*(n+1)\n",
        "dp[0],dp[1]=0,1\n",
        "for i in range(2,n+1):\n",
        "  dp[i]=dp[i-1]+dp[i-2]\n",
        "print(dp[n])"
      ],
      "metadata": {
        "colab": {
          "base_uri": "https://localhost:8080/"
        },
        "id": "AInQ5yTUBZpL",
        "outputId": "7e15e5b6-e691-4a26-b7bd-683770b1f44e"
      },
      "execution_count": null,
      "outputs": [
        {
          "output_type": "stream",
          "name": "stdout",
          "text": [
            "7\n",
            "13\n"
          ]
        }
      ]
    },
    {
      "cell_type": "code",
      "source": [
        "def frog_jump(n,energy):\n",
        "  if n==0:\n",
        "    return 0\n",
        "  jump1=frog_jump(n-1,energy)+abs(energy[n]-energy[n-1])\n",
        "  jump2=float('inf')\n",
        "  if n>1:\n",
        "    jump2=frog_jump(n-2,energy)+abs(energy[n]-energy[n-2])\n",
        "  return min(jump1,jump2)\n",
        "energy=[30,10,60,10,60,50]\n",
        "n=len(energy)-1\n",
        "print(frog_jump(n,energy))"
      ],
      "metadata": {
        "colab": {
          "base_uri": "https://localhost:8080/"
        },
        "id": "sqwMgrldHc4q",
        "outputId": "7b8bc4c0-62f6-48d0-c5a5-cca7d7e01d9f"
      },
      "execution_count": null,
      "outputs": [
        {
          "output_type": "stream",
          "name": "stdout",
          "text": [
            "40\n"
          ]
        }
      ]
    },
    {
      "cell_type": "code",
      "source": [
        "def frog_jump(n, energy, dp):\n",
        "    if n == 0:\n",
        "        return 0\n",
        "    if dp[n] != -1:\n",
        "        return dp[n]\n",
        "\n",
        "    jump1 = frog_jump(n - 1, energy, dp) + abs(energy[n] - energy[n - 1])\n",
        "    jump2 = float('inf')\n",
        "    if n > 1:\n",
        "        jump2 = frog_jump(n - 2, energy, dp) + abs(energy[n] - energy[n - 2])\n",
        "\n",
        "    dp[n] = min(jump1, jump2)\n",
        "    return dp[n]\n",
        "\n",
        "energy = [30, 10, 60, 10, 60, 50]\n",
        "n = len(energy) - 1\n",
        "dp = [-1] * (n + 1)\n",
        "print(frog_jump(n, energy, dp))\n"
      ],
      "metadata": {
        "colab": {
          "base_uri": "https://localhost:8080/"
        },
        "id": "f2iJ3mH5oogt",
        "outputId": "053d3e9f-e2df-4374-b645-c465eeb2716c"
      },
      "execution_count": null,
      "outputs": [
        {
          "output_type": "stream",
          "name": "stdout",
          "text": [
            "40\n"
          ]
        }
      ]
    },
    {
      "cell_type": "code",
      "source": [
        "# Energy costs at each stone\n",
        "energy = [30, 10, 60, 10, 60, 50]\n",
        "n = len(energy)\n",
        "\n",
        "# Initialize the DP array where dp[i] represents the minimum energy to reach stone i\n",
        "dp = [-1] * n\n",
        "dp[0] = 0  # Starting point, no energy needed\n",
        "\n",
        "# Fill the dp array\n",
        "for i in range(1, n):\n",
        "    # One-step jump\n",
        "    jump1 = dp[i - 1] + abs(energy[i] - energy[i - 1])\n",
        "\n",
        "    # Two-step jump (only if i > 1)\n",
        "    jump2 = float('inf')\n",
        "    if i > 1:\n",
        "        jump2 = dp[i - 2] + abs(energy[i] - energy[i - 2])\n",
        "\n",
        "    # Take the minimum of the two jumps\n",
        "    dp[i] = min(jump1, jump2)\n",
        "\n",
        "# Output the minimum energy required to reach the last stone\n",
        "print(\"Minimum energy to reach last stone:\", dp[n - 1])\n"
      ],
      "metadata": {
        "colab": {
          "base_uri": "https://localhost:8080/"
        },
        "id": "ThRyP7HItSmE",
        "outputId": "9aeac1b6-88f8-4d86-d42d-a614e986ead3"
      },
      "execution_count": null,
      "outputs": [
        {
          "output_type": "stream",
          "name": "stdout",
          "text": [
            "Minimum energy to reach last stone: 40\n"
          ]
        }
      ]
    }
  ]
}