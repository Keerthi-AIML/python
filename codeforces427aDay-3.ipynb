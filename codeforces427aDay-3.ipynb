{
  "nbformat": 4,
  "nbformat_minor": 0,
  "metadata": {
    "colab": {
      "private_outputs": true,
      "provenance": [],
      "authorship_tag": "ABX9TyPRkDv8kTqgyAeyGzs0uNcI",
      "include_colab_link": true
    },
    "kernelspec": {
      "name": "python3",
      "display_name": "Python 3"
    },
    "language_info": {
      "name": "python"
    }
  },
  "cells": [
    {
      "cell_type": "markdown",
      "metadata": {
        "id": "view-in-github",
        "colab_type": "text"
      },
      "source": [
        "<a href=\"https://colab.research.google.com/github/Keerthi-AIML/python/blob/main/codeforces427a.ipynb\" target=\"_parent\"><img src=\"https://colab.research.google.com/assets/colab-badge.svg\" alt=\"Open In Colab\"/></a>"
      ]
    },
    {
      "cell_type": "code",
      "execution_count": null,
      "metadata": {
        "id": "-up0i0lUje6j"
      },
      "outputs": [],
      "source": [
        "n=int(input())\n",
        "unsloved =0\n",
        "police=0\n",
        "event=list(map(int,input().split()))\n",
        "for e in event:\n",
        "  if e==-1:\n",
        "    if police>0:\n",
        "      police-=1\n",
        "    else:\n",
        "      unsloved+=1\n",
        "  else:\n",
        "      police+=e\n",
        "print(unsloved)\n",
        "\n"
      ]
    },
    {
      "cell_type": "code",
      "source": [
        "n=int(input())\n",
        "building=list(map(int,input().split()))\n",
        "sunlight=1\n",
        "for b in building:\n",
        "  if building[b+1]>building[b]:\n",
        "\n",
        "    sunlight+=1\n",
        "  else:\n",
        "    print(\"gets no sunlight\")\n",
        "print(sunlight)\n"
      ],
      "metadata": {
        "id": "W93aWAppwuFx"
      },
      "execution_count": null,
      "outputs": []
    },
    {
      "cell_type": "code",
      "source": [
        "# taking the maximum value cards\n",
        "l=[3,2,4,7,5]\n",
        "m=0\n",
        "for i in l:\n",
        "  if i>m:\n",
        "    m=i\n",
        "print(m)"
      ],
      "metadata": {
        "id": "UOugD6bGzZZB"
      },
      "execution_count": null,
      "outputs": []
    },
    {
      "cell_type": "code",
      "source": [
        "l=[3,2,4,7,5]\n",
        "m,count=0,0\n",
        "for i in l:\n",
        "  if i>m:\n",
        "    m=i\n",
        "    count+=1\n",
        "print(count)"
      ],
      "metadata": {
        "id": "9jdbBsLlz_1g"
      },
      "execution_count": null,
      "outputs": []
    },
    {
      "cell_type": "code",
      "source": [],
      "metadata": {
        "id": "p_2w8dc_20ZA"
      },
      "execution_count": null,
      "outputs": []
    },
    {
      "cell_type": "code",
      "source": [
        "# taking the maximum value cards\n",
        "l=[3,2,4,7,5]\n",
        "m1=0\n",
        "for i in l:\n",
        "  if i>m1:\n",
        "    m1=i\n",
        "m2=0\n",
        "for i in l:\n",
        "  if i>m2 and i!=m1:\n",
        "    m2=i\n",
        "print(m2)\n",
        "\n"
      ],
      "metadata": {
        "id": "BK4I247V21AL"
      },
      "execution_count": null,
      "outputs": []
    },
    {
      "cell_type": "code",
      "source": [
        "# taking the maximum value cards\n",
        "l=[3,2,4,7,5]\n",
        "m1,m2=0,0\n",
        "for i in l:\n",
        "  if i>m1:\n",
        "    m2=m1\n",
        "    m1=i\n",
        "  elif i>m2 and i!=m1:\n",
        "    m2==i\n",
        "print(m2)\n"
      ],
      "metadata": {
        "id": "BQ2YCxJw2_Nv"
      },
      "execution_count": null,
      "outputs": []
    },
    {
      "cell_type": "code",
      "source": [
        "n=int(input())\n",
        "if n%4==1:\n",
        "  print(1)\n",
        "if n%4==2:\n",
        "  print(n+1)\n",
        "if n%4==3:\n",
        "  print(0)\n",
        "if n%4==0:\n",
        "  print(n)"
      ],
      "metadata": {
        "id": "61OEEjIUD9d1"
      },
      "execution_count": null,
      "outputs": []
    },
    {
      "cell_type": "code",
      "source": [
        "def solve(n):\n",
        "  if n%4==1:\n",
        "    print(1)\n",
        "  if n%4==2:\n",
        "    print(n+1)\n",
        "  if n%4==3:\n",
        "    print(0)\n",
        "  if n%4==0:\n",
        "    print(n)\n",
        "solve(n)\n",
        "def slove2(n):\n",
        "  if n%4==3:\n",
        "    print(0)\n",
        "  if n%4==0:\n",
        "    print(n)\n",
        "  if n%4==1:\n",
        "    print(1)\n",
        "  if n%4==2:\n",
        "    print(n+1)\n",
        "slove2(n)\n",
        "print(solve(n)^slove2(n))"
      ],
      "metadata": {
        "id": "h63423YGHxLU"
      },
      "execution_count": null,
      "outputs": []
    },
    {
      "cell_type": "code",
      "source": [
        "def find_xor(n):\n",
        "  if n%4==1:\n",
        "    return 1\n",
        "  if n%4==2:\n",
        "    return n+1\n",
        "  if n%4==3:\n",
        "    return 0\n",
        "  if n%4==0:\n",
        "    return n\n",
        "l=int(input(\"enter the lower limit\"))\n",
        "u=int(input(\"enter the upper limit\"))\n",
        "a=find_xor(u)\n",
        "b=find_xor(l-1)\n",
        "print(a^b)"
      ],
      "metadata": {
        "id": "VgL3dMOYOavr"
      },
      "execution_count": null,
      "outputs": []
    },
    {
      "cell_type": "code",
      "source": [
        "n=int(input())\n",
        "count=0\n",
        "while n:\n",
        "  n=n&(n-1)\n",
        "  count+=1\n",
        "print(count)"
      ],
      "metadata": {
        "id": "7rij6jGtSYsi"
      },
      "execution_count": null,
      "outputs": []
    },
    {
      "cell_type": "code",
      "source": [
        "l=[5,8,10,12,4,3,7]\n",
        "def sum(n):\n",
        "  n=len(l)\n",
        "  sum=0\n",
        "  for i in l:\n",
        "    if n%i==0:\n",
        "      sum+=1\n",
        "sum(n)\n",
        "print(sum(n))\n"
      ],
      "metadata": {
        "id": "VjE5iKinidHX"
      },
      "execution_count": null,
      "outputs": []
    },
    {
      "cell_type": "code",
      "source": [
        "def is_prime(num):\n",
        "  \"\"\"Checks if a number is prime.\"\"\"\n",
        "  if num <= 1:\n",
        "    return False\n",
        "  for i in range(2, int(num**0.5) + 1):\n",
        "    if num % i == 0:\n",
        "      return False\n",
        "  return True\n",
        "\n",
        "# Get input from the user as a list of integers\n",
        "n = list(map(int, input(\"Enter a list of integers separated by spaces: \").split()))\n",
        "\n",
        "prime_count = 0\n",
        "for num in n:\n",
        "  if is_prime(num):\n",
        "    prime_count += 1\n",
        "\n",
        "print(f\"The number of prime numbers in the list is: {prime_count}\")"
      ],
      "metadata": {
        "id": "aVI04hwvlDZu"
      },
      "execution_count": null,
      "outputs": []
    },
    {
      "cell_type": "code",
      "source": [
        "def prime(n):\n",
        "  count=0\n",
        "  for i in range(2,int(n**0.5)+1):\n",
        "    if n%i==0:\n",
        "      count=1\n",
        "      break\n",
        "    if n==1:\n",
        "      print(\"not prime\")\n",
        "    else:\n",
        "      print(\"prime\")\n",
        "n=list(map(int,input().split()))\n",
        "for prime  in n:\n",
        "  if prime(n):\n",
        "    count+=1\n",
        "print(count)"
      ],
      "metadata": {
        "id": "d43pVQfonnF8"
      },
      "execution_count": null,
      "outputs": []
    },
    {
      "cell_type": "code",
      "source": [
        "num1,num2=0,0\n",
        "for i in num1:\n",
        "  if i%n==0 and i%m!=0:\n",
        "      num1+=1\n",
        "return num1\n",
        "for i in num2:\n",
        "    if i%n==0 and i%m==0:\n",
        "          num2+=1\n",
        "        return num2\n",
        "return num1-num2"
      ],
      "metadata": {
        "id": "lVDgKsyvqeOV"
      },
      "execution_count": null,
      "outputs": []
    }
  ]
}
