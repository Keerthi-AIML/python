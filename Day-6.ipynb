{
  "nbformat": 4,
  "nbformat_minor": 0,
  "metadata": {
    "colab": {
      "provenance": [],
      "authorship_tag": "ABX9TyNGsAqSWLnNIxNPMr8lWRRu",
      "include_colab_link": true
    },
    "kernelspec": {
      "name": "python3",
      "display_name": "Python 3"
    },
    "language_info": {
      "name": "python"
    }
  },
  "cells": [
    {
      "cell_type": "markdown",
      "metadata": {
        "id": "view-in-github",
        "colab_type": "text"
      },
      "source": [
        "<a href=\"https://colab.research.google.com/github/Keerthi-AIML/python/blob/main/Day-6.ipynb\" target=\"_parent\"><img src=\"https://colab.research.google.com/assets/colab-badge.svg\" alt=\"Open In Colab\"/></a>"
      ]
    },
    {
      "cell_type": "code",
      "execution_count": null,
      "metadata": {
        "id": "tNlMVqOoLpH0"
      },
      "outputs": [],
      "source": [
        "s=\"keerthi\"\n",
        "stack=[]\n",
        "for c in s:\n"
      ]
    },
    {
      "cell_type": "code",
      "source": [
        "l=[3,2,4,2]\n",
        "n=len(l)\n",
        "arr=[]\n",
        "for i in range(n):\n",
        "  arr.extend([i+1]*l[i])\n",
        "print(arr)"
      ],
      "metadata": {
        "colab": {
          "base_uri": "https://localhost:8080/"
        },
        "id": "csIjfM3aJjvU",
        "outputId": "a2c18a09-04f1-44d8-b6ae-6ca43580274a"
      },
      "execution_count": null,
      "outputs": [
        {
          "output_type": "stream",
          "name": "stdout",
          "text": [
            "[1, 1, 1, 2, 2, 3, 3, 3, 3, 4, 4]\n"
          ]
        }
      ]
    },
    {
      "cell_type": "code",
      "source": [
        "class Solution:\n",
        "    def nextGreaterElement(self, nums1: list[int], nums2: list[int]) -> list[int]:\n",
        "        dict = {}\n",
        "        stack = []\n",
        "        for c in nums2:\n",
        "            while stack and stack[-1] < c:\n",
        "                ele = stack.pop()\n",
        "                dict[ele] = c\n",
        "            stack.append(c)\n",
        "\n",
        "        while stack:\n",
        "            dict[stack.pop()] = -1\n",
        "\n",
        "        res = []\n",
        "        for i in nums1:\n",
        "            res.append(dict.get(i, -1))  # Use .get to handle cases where an element from nums1 isn't in nums2\n",
        "\n",
        "        return res\n",
        "\n",
        "# Example usage (assuming you have nums1 and nums2 defined)\n",
        "# sol = Solution()\n",
        "# result = sol.nextGreaterElement(nums1, nums2)\n",
        "# print(result)"
      ],
      "metadata": {
        "colab": {
          "base_uri": "https://localhost:8080/"
        },
        "id": "NBhB7c97Kcis",
        "outputId": "337f4652-5a07-4884-9735-2ea2237195be"
      },
      "execution_count": null,
      "outputs": [
        {
          "output_type": "stream",
          "name": "stdout",
          "text": [
            "5 8\n"
          ]
        }
      ]
    },
    {
      "cell_type": "code",
      "source": [
        "s=\"keerthi\"\n",
        "stack=[]\n",
        "for c in s:\n",
        "  if stack and stack[-1]==c:\n",
        "    stack.pop()\n",
        "  else:\n",
        "    stack.append(c)\n",
        "print(\" \".join(stack))"
      ],
      "metadata": {
        "colab": {
          "base_uri": "https://localhost:8080/"
        },
        "id": "PQPloQEQMihr",
        "outputId": "5efa868d-162a-4362-9f59-b0547d690835"
      },
      "execution_count": null,
      "outputs": [
        {
          "output_type": "stream",
          "name": "stdout",
          "text": [
            "k r t h i\n"
          ]
        }
      ]
    },
    {
      "cell_type": "code",
      "source": [
        "str=\"k***rt*12*345\"\n",
        "stack=[]\n",
        "for c in str:\n",
        "  if stack and c=='*':\n",
        "    stack.pop()\n",
        "  else:\n",
        "    stack.append(c)\n",
        "print(\" \".join(stack))"
      ],
      "metadata": {
        "colab": {
          "base_uri": "https://localhost:8080/"
        },
        "id": "2trWcLvcP28a",
        "outputId": "316e67a9-e9fc-4a09-d221-2d3b9ff8238d"
      },
      "execution_count": null,
      "outputs": [
        {
          "output_type": "stream",
          "name": "stdout",
          "text": [
            "r 1 3 4 5\n"
          ]
        }
      ]
    }
  ]
}