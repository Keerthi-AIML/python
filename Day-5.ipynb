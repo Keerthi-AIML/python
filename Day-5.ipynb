{
  "nbformat": 4,
  "nbformat_minor": 0,
  "metadata": {
    "colab": {
      "private_outputs": true,
      "provenance": [],
      "authorship_tag": "ABX9TyOdjPcRtK86dgSQb1hvt747",
      "include_colab_link": true
    },
    "kernelspec": {
      "name": "python3",
      "display_name": "Python 3"
    },
    "language_info": {
      "name": "python"
    }
  },
  "cells": [
    {
      "cell_type": "markdown",
      "metadata": {
        "id": "view-in-github",
        "colab_type": "text"
      },
      "source": [
        "<a href=\"https://colab.research.google.com/github/Keerthi-AIML/python/blob/main/Day-5.ipynb\" target=\"_parent\"><img src=\"https://colab.research.google.com/assets/colab-badge.svg\" alt=\"Open In Colab\"/></a>"
      ]
    },
    {
      "cell_type": "code",
      "execution_count": null,
      "metadata": {
        "id": "mSC_tx2m44XP"
      },
      "outputs": [],
      "source": [
        "# codeforces 1560\n",
        "n=int(input())\n",
        "for _ in range(n):\n",
        "  k=int(input())\n",
        "  i,count=1,0\n",
        "while 1:\n",
        "  if i%3!=0 and i%10!=3:\n",
        "    count+=1\n",
        "    if count==k:\n",
        "      print(i)\n",
        "      break\n",
        "  i+=1\n",
        "\n",
        "\n"
      ]
    },
    {
      "cell_type": "code",
      "source": [
        "d={}\n",
        "n=int(input())\n",
        "for _ in range(n):\n",
        "  key=int(input())\n",
        "  value=int(input())\n",
        "  d[key]=value\n",
        "print(d)"
      ],
      "metadata": {
        "id": "OYURxh1Eg9jH"
      },
      "execution_count": null,
      "outputs": []
    },
    {
      "cell_type": "code",
      "source": [
        "#keys(); returns list of dictionary dict's keys\n",
        "d={1:'hi','a':}"
      ],
      "metadata": {
        "id": "JtBEt4l6mrwA"
      },
      "execution_count": null,
      "outputs": []
    },
    {
      "cell_type": "code",
      "source": [
        "#fromkeys():create a new dictionary with keys from seq and values\n",
        "d={'a','b','c'}\n",
        "d=dict.fromkeys(d,10)\n",
        "print(d)\n"
      ],
      "metadata": {
        "id": "e-veKvtJnA9W"
      },
      "execution_count": null,
      "outputs": []
    },
    {
      "cell_type": "code",
      "source": [
        "#setdefault(): set dict[key]=default if key is not alreaady in dict\n",
        "d={1:'hi','a':123}\n",
        "print(d.setdefault('a'))\n",
        "print(d.setdefault('b'))\n",
        "print(d)\n"
      ],
      "metadata": {
        "id": "sYqwqtrCnjJW"
      },
      "execution_count": null,
      "outputs": []
    },
    {
      "cell_type": "code",
      "source": [
        "d={}\n",
        "n=int(input())\n",
        "for _ in range(n):\n",
        "  key=int(input())\n",
        "  value=int(input())\n",
        "  d[key]=value\n",
        "  key=int(input())\n",
        "if key in d:\n",
        "  print('key is in the dictionary')\n",
        "else:\n",
        "  print('key is not in the dictionary')\n",
        "\n"
      ],
      "metadata": {
        "id": "YzyORKo5oIce"
      },
      "execution_count": null,
      "outputs": []
    },
    {
      "cell_type": "code",
      "source": [
        "#write a python program to generate and print a dictionary that contains a number a value should be squared\n",
        "# it is taking the default values\n",
        "d={}\n",
        "n=int(input())\n",
        "for i in range(1,n+1):\n",
        "  d[i]=i*i\n",
        "print(d)\n"
      ],
      "metadata": {
        "id": "fYmKL4Bo54Fu"
      },
      "execution_count": null,
      "outputs": []
    },
    {
      "cell_type": "code",
      "source": [
        "#sort a number have a time complexity of n(log)\n",
        "l1=[1,2,3,4,7,8]\n",
        "l2=[5,6]\n",
        "for i ,j in zip(l1,l2):\n",
        "  print(i,j)"
      ],
      "metadata": {
        "id": "XIiQeHRW8Enp"
      },
      "execution_count": null,
      "outputs": []
    },
    {
      "cell_type": "code",
      "source": [
        "#  using two pointer approach\n",
        "l1=[1,2,3,4,7,8,9]\n",
        "l2=[5,6,10,12,13,14,15,17]\n",
        "i,j=0,0\n",
        "res=[]\n",
        "while i<len(l1) and j<len(l2):\n",
        "  if l1[i]<l2[j]:\n",
        "    res.append(l1[i])\n",
        "    i+=1\n",
        "  else:\n",
        "    res.append(l2[j])\n",
        "    j+=1\n",
        "while i<len(l1):\n",
        "    res.append(l1[i])\n",
        "    i+=1\n",
        "while j<len(l2):\n",
        "    res.append(l2[j])\n",
        "    j+=1\n",
        "\n",
        "print(res)\n",
        "#mergesorted aaray 88 leetcode h.w"
      ],
      "metadata": {
        "id": "RLW1DdtU95-a"
      },
      "execution_count": null,
      "outputs": []
    },
    {
      "cell_type": "code",
      "source": [
        "nums=[1,1,2,3,2,3,4,5]\n",
        "s=set()\n",
        "res=[]\n",
        "for i in nums:\n",
        "  if i not in s:\n",
        "    s.add(i)\n",
        "    res.append(i)\n",
        "print(len(res))"
      ],
      "metadata": {
        "id": "kT8zg6SwAU7D"
      },
      "execution_count": null,
      "outputs": []
    },
    {
      "cell_type": "code",
      "source": [
        "nums=[1,2,5,3,2,4,5,8]\n",
        "res=[]\n",
        "for i in nums:\n",
        "  if res and i!=res[-1]:\n",
        "    res.append(i)\n",
        "print(len(res))"
      ],
      "metadata": {
        "id": "Oc2HO4rMSRYh"
      },
      "execution_count": null,
      "outputs": []
    },
    {
      "cell_type": "code",
      "source": [
        "l=[1,6,9,5]\n",
        "res=[]\n",
        "for i in range(len(l)):\n",
        "  for j in range(i+1,len(l)):\n",
        "    print(l[i],l[j])\n"
      ],
      "metadata": {
        "id": "EEKdWgnoWJHg"
      },
      "execution_count": null,
      "outputs": []
    },
    {
      "cell_type": "code",
      "source": [
        "l=[1,6,6,9,9,5]\n",
        "m1,m2=0,0\n",
        "for i in l:\n",
        "  if i>m1:\n",
        "    m2=m1\n",
        "    m1=i\n",
        "  elif i>m2:\n",
        "    m2=i\n",
        "print(m1,m2)\n",
        "print(m1+m2)\n"
      ],
      "metadata": {
        "id": "WXj0qIXlbdWQ"
      },
      "execution_count": null,
      "outputs": []
    }
  ]
}