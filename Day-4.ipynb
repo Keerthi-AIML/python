{
  "nbformat": 4,
  "nbformat_minor": 0,
  "metadata": {
    "colab": {
      "private_outputs": true,
      "provenance": [],
      "authorship_tag": "ABX9TyPjEnk6U5LF7gzlAfps2N9p",
      "include_colab_link": true
    },
    "kernelspec": {
      "name": "python3",
      "display_name": "Python 3"
    },
    "language_info": {
      "name": "python"
    }
  },
  "cells": [
    {
      "cell_type": "markdown",
      "metadata": {
        "id": "view-in-github",
        "colab_type": "text"
      },
      "source": [
        "<a href=\"https://colab.research.google.com/github/Keerthi-AIML/python/blob/main/Day-4.ipynb\" target=\"_parent\"><img src=\"https://colab.research.google.com/assets/colab-badge.svg\" alt=\"Open In Colab\"/></a>"
      ]
    },
    {
      "cell_type": "code",
      "execution_count": null,
      "metadata": {
        "id": "qUYXXONPBNBB"
      },
      "outputs": [],
      "source": [
        "nums=[1,3,2,2,5,2,3,7]\n",
        "m1,m2=0,0\n",
        "ele1,ele2=0,0\n",
        "d={}\n",
        "for i in nums:\n",
        "  if i not in d:\n",
        "    d[i]=1\n",
        "  else:\n",
        "    d[i]+=1\n",
        "for k in d:\n",
        "  if d[k]>m1:\n",
        "    m2=m1\n",
        "    ele2=ele1\n",
        "    m1=d[k]\n",
        "    ele1=k\n",
        "  elif d[k]>m2 and d[k]!=m1:\n",
        "    m2=d[k]\n",
        "    ele2=k\n",
        "print(ele2)"
      ]
    },
    {
      "cell_type": "code",
      "source": [
        "l=[3,2,1,4,5,7,8,9]\n",
        "k=7\n",
        "for i in range(len(l)):\n",
        "  if k==l[i]:\n",
        "    print(i)\n",
        "    break\n",
        "else:\n",
        "  print(False)"
      ],
      "metadata": {
        "id": "U1FR44FRgogX"
      },
      "execution_count": null,
      "outputs": []
    },
    {
      "cell_type": "code",
      "source": [
        "# 2d matrix using list\n",
        "l=[[6,7,8],[5,1,0],[12,10,2]]\n",
        "print(l)"
      ],
      "metadata": {
        "id": "cK4HB7CziZ3P"
      },
      "execution_count": null,
      "outputs": []
    },
    {
      "cell_type": "code",
      "source": [
        "l=[1,3,4,5,7,8,9,11,15]\n",
        "k=11\n",
        "s,e=0,len(l)-1\n",
        "while s<=e:\n",
        "  m=(s+e)//2\n",
        "  if l[m]==k:\n",
        "    print(\"Found the element\")\n",
        "    break\n",
        "  elif l[m]<k:\n",
        "    s=m+1\n",
        "  else:\n",
        "    e=m-1\n",
        "else:\n",
        "  print(False)"
      ],
      "metadata": {
        "id": "rkpIi8VIo4FW"
      },
      "execution_count": null,
      "outputs": []
    }
  ]
}