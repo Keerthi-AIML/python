{
  "nbformat": 4,
  "nbformat_minor": 0,
  "metadata": {
    "colab": {
      "provenance": [],
      "authorship_tag": "ABX9TyMG4A1lk2No+iCleiUPnFwo",
      "include_colab_link": true
    },
    "kernelspec": {
      "name": "python3",
      "display_name": "Python 3"
    },
    "language_info": {
      "name": "python"
    }
  },
  "cells": [
    {
      "cell_type": "markdown",
      "metadata": {
        "id": "view-in-github",
        "colab_type": "text"
      },
      "source": [
        "<a href=\"https://colab.research.google.com/github/Keerthi-AIML/python/blob/main/Day-4.ipynb\" target=\"_parent\"><img src=\"https://colab.research.google.com/assets/colab-badge.svg\" alt=\"Open In Colab\"/></a>"
      ]
    },
    {
      "cell_type": "code",
      "execution_count": null,
      "metadata": {
        "id": "6On3T3ug3UFK"
      },
      "outputs": [],
      "source": [
        "class Sample:\n",
        "  p=10 #class variable\n",
        "  x='hi'\n"
      ]
    },
    {
      "cell_type": "code",
      "source": [
        "S1=sample()\n",
        "  print(\"p1=\",S1.p)\n",
        "  print('x=',S1.x)"
      ],
      "metadata": {
        "colab": {
          "base_uri": "https://localhost:8080/",
          "height": 106
        },
        "id": "F6mLFllG4NJk",
        "outputId": "0a4c8bea-098d-4db9-b685-99eab260b850"
      },
      "execution_count": null,
      "outputs": [
        {
          "output_type": "error",
          "ename": "IndentationError",
          "evalue": "unexpected indent (ipython-input-5-849453166.py, line 2)",
          "traceback": [
            "\u001b[0;36m  File \u001b[0;32m\"/tmp/ipython-input-5-849453166.py\"\u001b[0;36m, line \u001b[0;32m2\u001b[0m\n\u001b[0;31m    print(\"p1=\",S1.p)\u001b[0m\n\u001b[0m    ^\u001b[0m\n\u001b[0;31mIndentationError\u001b[0m\u001b[0;31m:\u001b[0m unexpected indent\n"
          ]
        }
      ]
    },
    {
      "cell_type": "code",
      "source": [
        "class Data:\n",
        "  a=100\n",
        "  def f1(self,p):\n",
        "    s=45 #local variable\n",
        "    self.r=p # r--instance variable\n",
        "  def f2(self):\n",
        "    #cant acess s,because its local variable\n",
        "    print(\"r inside f2=\",self.r)\n"
      ],
      "metadata": {
        "id": "uafr29fE5FBD"
      },
      "execution_count": null,
      "outputs": []
    },
    {
      "cell_type": "code",
      "source": [
        "d1=Data()\n",
        "d2=Data()"
      ],
      "metadata": {
        "id": "qGAvJZ1G6VLB"
      },
      "execution_count": null,
      "outputs": []
    },
    {
      "cell_type": "code",
      "source": [
        "d1.f1(25)\n",
        "d2.f1(78)"
      ],
      "metadata": {
        "id": "kntS1HLF6nsa"
      },
      "execution_count": null,
      "outputs": []
    },
    {
      "cell_type": "code",
      "source": [
        "d1.f2()"
      ],
      "metadata": {
        "colab": {
          "base_uri": "https://localhost:8080/"
        },
        "id": "CxhTc4MP65j6",
        "outputId": "f6e30ee4-2fea-43fd-a236-6057ccf2dc6c"
      },
      "execution_count": null,
      "outputs": [
        {
          "output_type": "stream",
          "name": "stdout",
          "text": [
            "r inside f2= 25\n"
          ]
        }
      ]
    },
    {
      "cell_type": "code",
      "source": [
        "#difference between class and instance variaable\n",
        "#through class we can create multiple objects\n"
      ],
      "metadata": {
        "id": "1WgqTePo7lgR"
      },
      "execution_count": null,
      "outputs": []
    },
    {
      "cell_type": "code",
      "source": [
        "print(\"with respect to object d1,class var a=\",d1.a)\n",
        "print(\"with reapsect to object d2,class var a=\",d2.a)\n",
        "print(\"with respect to object d1,instance  var r=\",d1.r)\n",
        "print(\"with reapsect to object d2,instance  var r=\",d2.r)\n",
        "#class variable works for the class as a whole\n",
        "#instance variable works per objects"
      ],
      "metadata": {
        "colab": {
          "base_uri": "https://localhost:8080/"
        },
        "id": "K1iSSvKz9B56",
        "outputId": "692e3a6f-2a91-4016-9afc-aceb110383a2"
      },
      "execution_count": null,
      "outputs": [
        {
          "output_type": "stream",
          "name": "stdout",
          "text": [
            "with respect to object d1,class var a= 100\n",
            "with reapsect to object d2,class var a= 100\n",
            "with respect to object d1,instance  var r= 25\n",
            "with reapsect to object d2,instance  var r= 78\n"
          ]
        }
      ]
    },
    {
      "cell_type": "code",
      "source": [
        "d3=Data()\n",
        "d3.f1(100)"
      ],
      "metadata": {
        "id": "qEmWBu3G9-Jh"
      },
      "execution_count": null,
      "outputs": []
    },
    {
      "cell_type": "code",
      "source": [
        "d3.f2()"
      ],
      "metadata": {
        "colab": {
          "base_uri": "https://localhost:8080/"
        },
        "id": "PFpWVhR9-PIZ",
        "outputId": "5a495ad2-bcf7-444c-95e6-11bdb048cc82"
      },
      "execution_count": null,
      "outputs": [
        {
          "output_type": "stream",
          "name": "stdout",
          "text": [
            "r inside f2= 100\n"
          ]
        }
      ]
    },
    {
      "cell_type": "code",
      "source": [
        "class Data:\n",
        "  a=100\n",
        "  def __init__(self,p):# constructor\n",
        "    s=45 #local variable\n",
        "    self.r=p # r--instance variable\n",
        "  def f2(self):\n",
        "    #cant acess s,because its local variable\n",
        "    print(\"r inside f2=\",self.r)\n"
      ],
      "metadata": {
        "id": "pCZxBSUr-VDJ"
      },
      "execution_count": null,
      "outputs": []
    },
    {
      "cell_type": "code",
      "source": [
        "d1=Data(24)# calls constructor\n",
        "d1.f2()"
      ],
      "metadata": {
        "colab": {
          "base_uri": "https://localhost:8080/"
        },
        "id": "dx8nRMy4_iNS",
        "outputId": "bc86a51c-c16e-487a-e3f6-57d47a1ee256"
      },
      "execution_count": null,
      "outputs": [
        {
          "output_type": "stream",
          "name": "stdout",
          "text": [
            "r inside f2= 24\n"
          ]
        }
      ]
    },
    {
      "cell_type": "code",
      "source": [
        "class car:\n",
        "  def __init__(self):\n",
        "    self.brand=input(\"enter the car brand\")\n",
        "    self.model=input(\"enter the car model\")\n",
        "    self.year=int(input(\"enter the year\"))\n",
        "    def display_info(self):\n",
        "      print(\"car details\")\n",
        "      print(\"brand=\",self.brand)\n",
        "      print(\"model=\",self.model)\n",
        "      print(\"year=\",self.year)\n"
      ],
      "metadata": {
        "id": "B73CoT_pAszp"
      },
      "execution_count": null,
      "outputs": []
    },
    {
      "cell_type": "code",
      "source": [
        "C=car()"
      ],
      "metadata": {
        "colab": {
          "base_uri": "https://localhost:8080/"
        },
        "id": "jEOs3i5hCVDi",
        "outputId": "54c033ee-510f-4785-e059-375ab89f397b"
      },
      "execution_count": null,
      "outputs": [
        {
          "name": "stdout",
          "output_type": "stream",
          "text": [
            "enter the car brandbenzz\n",
            "enter the car model167\n",
            "enter the year2015\n"
          ]
        }
      ]
    }
  ]
}